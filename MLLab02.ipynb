{
  "nbformat": 4,
  "nbformat_minor": 0,
  "metadata": {
    "colab": {
      "provenance": []
    },
    "kernelspec": {
      "name": "python3",
      "display_name": "Python 3"
    },
    "language_info": {
      "name": "python"
    }
  },
  "cells": [
    {
      "cell_type": "code",
      "execution_count": null,
      "metadata": {
        "id": "_di6bdA6tASD"
      },
      "outputs": [],
      "source": [
        "import numpy as np\n"
      ]
    },
    {
      "cell_type": "code",
      "source": [
        "x = np.array([170,141,164,130,120])\n",
        "y= np.array([80,64,71,50,45])\n"
      ],
      "metadata": {
        "id": "iAS97YUjtG7p"
      },
      "execution_count": null,
      "outputs": []
    },
    {
      "cell_type": "code",
      "source": [
        "mean_x = np.mean(x)\n",
        "mean_y = np.mean(y)\n",
        "print(mean_x,mean_y)"
      ],
      "metadata": {
        "colab": {
          "base_uri": "https://localhost:8080/"
        },
        "id": "C43JxFPMtctl",
        "outputId": "edaa5608-2272-4f53-f21c-ddf7f1634101"
      },
      "execution_count": null,
      "outputs": [
        {
          "output_type": "stream",
          "name": "stdout",
          "text": [
            "145.0 62.0\n"
          ]
        }
      ]
    },
    {
      "cell_type": "code",
      "source": [
        "n = len(x)\n",
        "sumx = 0\n",
        "sumx2=0\n",
        "for i in range(0,n):\n",
        "  sumx+=(y[i]-mean_y)*(x[i]-mean_x)\n",
        "  sumx2+=(x[i]-mean_x)**2\n",
        "  print((x[i]-mean_x)**2)\n",
        "m = sumx/sumx2\n",
        "print(m)\n",
        "c = mean_y - m*mean_x\n",
        "print(sumx,sumx2)\n",
        "print(c)\n",
        "print('equation of line : y','=',m,'x',c)"
      ],
      "metadata": {
        "colab": {
          "base_uri": "https://localhost:8080/"
        },
        "id": "LopPLxfNtyS2",
        "outputId": "389d2b65-1a97-42b0-e9c1-bd1e491b6e53"
      },
      "execution_count": null,
      "outputs": [
        {
          "output_type": "stream",
          "name": "stdout",
          "text": [
            "625.0\n",
            "16.0\n",
            "361.0\n",
            "225.0\n",
            "625.0\n",
            "0.6576673866090713\n",
            "1218.0 1852.0\n",
            "-33.36177105831534\n",
            "equation of line : y = 0.6576673866090713 x -33.36177105831534\n"
          ]
        }
      ]
    }
  ]
}